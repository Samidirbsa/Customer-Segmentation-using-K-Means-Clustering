{
 "cells": [
  {
   "cell_type": "markdown",
   "metadata": {},
   "source": [
    "# **Customer Segmentation for Marketing Strategies** "
   ]
  },
  {
   "cell_type": "markdown",
   "metadata": {},
   "source": [
    "##  **Business Understanding**"
   ]
  },
  {
   "cell_type": "markdown",
   "metadata": {},
   "source": [
    "## Introduction"
   ]
  },
  {
   "cell_type": "markdown",
   "metadata": {},
   "source": [
    " In the ever-evolving landscape of marketing, understanding customer behavior is paramount for businesses aiming to tailor their strategies effectively. Customer segmentation, a pivotal aspect of marketing analytics, facilitates the categorization of customers into distinct groups based on shared characteristics. This segmentation enables businesses to craft personalized marketing approaches, thereby enhancing customer satisfaction and optimizing resource allocation. This study delves into the realm of customer segmentation using clustering techniques, with a specific focus on leveraging purchasing behavior as a primary criterion. The objective is to unravel patterns within a dataset—namely, the Mall Customer Segmentation Data—that offer insights into diverse customer personas. By dissecting these patterns, businesses can better comprehend the nuances of their customer base, paving the way for targeted marketing strategies that resonate with specific segments.\n"
   ]
  },
  {
   "cell_type": "markdown",
   "metadata": {},
   "source": [
    "**Objective:**"
   ]
  },
  {
   "cell_type": "markdown",
   "metadata": {},
   "source": [
    "Use clustering techniques to segment customers into distinct groups based on purchasing behavior."
   ]
  },
  {
   "cell_type": "code",
   "execution_count": null,
   "metadata": {},
   "outputs": [],
   "source": [
    "# Data manipulation packages\n",
    "import pyodbc\n",
    "from sqlalchemy import create_engine\n",
    "from dotenv import dotenv_values\n",
    "import pandas as pd\n",
    "import numpy as np\n",
    "\n",
    "#Data visualization packages\n",
    "import matplotlib.pyplot as plt\n",
    "import seaborn as sns\n",
    "import plotly.express as px"
   ]
  }
 ],
 "metadata": {
  "kernelspec": {
   "display_name": "Python 3",
   "language": "python",
   "name": "python3"
  },
  "language_info": {
   "name": "python",
   "version": "3.12.3"
  }
 },
 "nbformat": 4,
 "nbformat_minor": 2
}
